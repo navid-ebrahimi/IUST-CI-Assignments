{
  "cells": [
    {
      "cell_type": "code",
      "execution_count": null,
      "metadata": {
        "id": "0CBdd5Wn7hq9"
      },
      "outputs": [],
      "source": [
        "import numpy as np\n",
        "import matplotlib.pyplot as plt\n",
        "# np.random.seed(100)\n"
      ]
    },
    {
      "cell_type": "markdown",
      "metadata": {
        "id": "rLHxrwUyCYM6"
      },
      "source": [
        "## Initialization of a Simple Neural Network"
      ]
    },
    {
      "cell_type": "code",
      "execution_count": null,
      "metadata": {
        "id": "px_odX6SCcer"
      },
      "outputs": [],
      "source": [
        "\"\"\"\n",
        "This code is setting up a simple neural network with one hidden layer.\n",
        "It initializes the training data, weights, and biases for the network.\n",
        "\"\"\"\n",
        "\n",
        "x_train = np.linspace(-3, 3, 1000)\n",
        "y_train = x_train**2\n",
        "\n",
        "weights_of_hiddenLayer = np.random.uniform(-1,1,100)\n",
        "weights_of_outputLayer = np.random.uniform(-1,1,100)\n",
        "\n",
        "bias_of_hiddenLayer = np.random.rand(100)\n",
        "bias_of_outputLayer = np.random.rand(1)\n",
        "\n",
        "weights_of_hiddenLayer = weights_of_hiddenLayer.reshape((100,1))\n",
        "weights_of_outputLayer = weights_of_outputLayer.reshape((100,1))\n",
        "bias_of_hiddenLayer = bias_of_hiddenLayer.reshape((100,1))\n",
        "bias_of_outputLayer = bias_of_outputLayer.reshape((1,1))"
      ]
    },
    {
      "cell_type": "markdown",
      "metadata": {
        "id": "pte5hUbfnWwP"
      },
      "source": [
        "## Implementation of Softmax, ReLU, and Sigmoid Activation Functions"
      ]
    },
    {
      "cell_type": "code",
      "execution_count": null,
      "metadata": {
        "id": "ncCy0BSEnZKq"
      },
      "outputs": [],
      "source": [
        "\"\"\"\n",
        "This code defines a class \"activationFunctions\" that implements three common activation functions\n",
        "used in neural networks: softmax, ReLU, and sigmoid.\n",
        "\"\"\"\n",
        "\n",
        "class activationFunctions:\n",
        "  def softmax(self, x):\n",
        "    return np.exp(x) / np.sum(np.exp(x))\n",
        "\n",
        "  def ReLU(self, x):\n",
        "    return np.maximum(0, x)\n",
        "\n",
        "  def leaky_ReLU(self, x):\n",
        "    return np.maximum(0.01*x, x)\n",
        "\n",
        "  def sigmoid(self, x):\n",
        "    return 1/(1 + np.exp(-x))\n",
        "\n",
        "  def softmax_derivative(self, softmax):\n",
        "    s = softmax.reshape(-1,1)\n",
        "    return np.diagflat(s) - np.dot(s, s.T)\n",
        "\n",
        "  def relu_derivative(self, x):\n",
        "    return np.where(x > 0, 1, 0)\n",
        "\n",
        "  def leaky_relu_derivative(self, x):\n",
        "    return np.where(x > 0, 1, 0.01)\n"
      ]
    },
    {
      "cell_type": "markdown",
      "metadata": {
        "id": "UFf-J0JrekMX"
      },
      "source": [
        "## Implementation of Cross-Entropy Loss and Mean Squared Error (MSE) in a Loss Class"
      ]
    },
    {
      "cell_type": "code",
      "execution_count": null,
      "metadata": {
        "id": "rfVIu2mtemVj"
      },
      "outputs": [],
      "source": [
        "\"\"\"\n",
        "This code defines a `Loss` class that implements two common loss functions used in machine learning:\n",
        "cross-entropy loss and mean squared error (MSE).\n",
        "\"\"\"\n",
        "\n",
        "class Loss:\n",
        "  def __init__(self, y, output):\n",
        "    self.y = y\n",
        "    self.output = output\n",
        "\n",
        "  def cross_entropy_loss(self):\n",
        "    return -np.sum(self.y * np.log(self.output))\n",
        "\n",
        "  def MSE(self):\n",
        "    return np.mean(np.square(self.y - self.output))"
      ]
    },
    {
      "cell_type": "markdown",
      "metadata": {
        "id": "qDI6JyrGCRM8"
      },
      "source": [
        "## MLP Neural Network Class with Training and Prediction Methods"
      ]
    },
    {
      "cell_type": "code",
      "execution_count": null,
      "metadata": {
        "id": "iKsdUA-qCUxq"
      },
      "outputs": [],
      "source": [
        "\"\"\"\n",
        "This code defines a class `MLP` (Multi-Layer Perceptron) that implements a simple neural network with one hidden layer and\n",
        "methods for forward propagation, backpropagation, training, prediction, and accuracy calculation.\n",
        "\"\"\"\n",
        "\n",
        "class MLP:\n",
        "  def __init__(self, weights, biases):\n",
        "    self.weights = weights\n",
        "    self.biases = biases\n",
        "\n",
        "  def forward(self, x):\n",
        "    aF = activationFunctions()\n",
        "    self.z_of_hiddenLayer = np.dot(x, self.weights[0]) + self.biases[0]\n",
        "    self.output_of_hiddenLayer = aF.ReLU(self.z_of_hiddenLayer)\n",
        "    z_of_outputLayer = np.dot(self.weights[1].T, self.output_of_hiddenLayer) + self.biases[1]\n",
        "    self.output_of_outputLayer = z_of_outputLayer\n",
        "    return self.output_of_outputLayer\n",
        "\n",
        "\n",
        "  def backward(self, x, y, loss_derivative):\n",
        "    aF = activationFunctions()\n",
        "    self.weights_gradient = [np.zeros_like(w) for w in self.weights]\n",
        "    self.biases_gradient = [np.zeros_like(b) for b in self.biases]\n",
        "\n",
        "    dloss = self.output_of_outputLayer - y\n",
        "    doutput_dz_output = dloss\n",
        "    layer2_weights_gradiants = dloss * self.output_of_hiddenLayer\n",
        "    relu_derivation = aF.relu_derivative(self.z_of_hiddenLayer)\n",
        "    layer1_weights_gradiants = relu_derivation * dloss * self.weights[1] * x\n",
        "\n",
        "    self.weights_gradient[0] = layer1_weights_gradiants\n",
        "    self.weights_gradient[1] = layer2_weights_gradiants\n",
        "\n",
        "    self.biases_gradient[0] = dloss * self.weights[1] * relu_derivation\n",
        "    self.biases_gradient[1] = dloss\n",
        "    return self.weights_gradient, self.biases_gradient\n",
        "\n",
        "\n",
        "  def train(self, x, y, epochs, learning_rate):\n",
        "    losses = []\n",
        "    for epoch in range(epochs):\n",
        "        loss_sum = 0\n",
        "        for xi, yi in zip(x, y):\n",
        "            output = self.forward(xi)\n",
        "            lossClass = Loss(yi, output[0][0])\n",
        "            loss = lossClass.MSE()\n",
        "            loss_sum += loss\n",
        "            weights_gradient, biases_gradient = self.backward(xi, yi, output)\n",
        "            self.weights[1] -= learning_rate * weights_gradient[1]\n",
        "            self.biases[1] -= learning_rate * biases_gradient[1]\n",
        "            self.weights[0] -= learning_rate * weights_gradient[0]\n",
        "            self.biases[0] -= learning_rate * biases_gradient[0]\n",
        "\n",
        "        avg_loss = loss_sum / len(x)\n",
        "        losses.append(avg_loss)\n",
        "\n",
        "        if epoch % 10 == 0:\n",
        "            print('Epoch %d loss: %.2f' % (epoch, avg_loss))\n",
        "\n",
        "    return losses\n",
        "\n",
        "  def predict(self, x, y, learning_rate):\n",
        "    predicted = []\n",
        "    for xi, yi in zip(x, y):\n",
        "      output = self.forward(xi)\n",
        "      predicted.append(output[0][0])\n",
        "\n",
        "    return predicted\n"
      ]
    },
    {
      "cell_type": "markdown",
      "metadata": {
        "id": "MJVQ_Qmq72T-"
      },
      "source": [
        "## Training the MLP Neural Network"
      ]
    },
    {
      "cell_type": "code",
      "execution_count": null,
      "metadata": {
        "colab": {
          "base_uri": "https://localhost:8080/"
        },
        "id": "haxm8ep26ezi",
        "outputId": "85c2421a-1a9e-4bcd-d424-67544d26d820"
      },
      "outputs": [
        {
          "output_type": "stream",
          "name": "stdout",
          "text": [
            "Epoch 0 loss: 14.96\n",
            "Epoch 10 loss: 0.06\n",
            "Epoch 20 loss: 0.01\n",
            "Epoch 30 loss: 0.01\n",
            "Epoch 40 loss: 0.01\n",
            "Epoch 50 loss: 0.01\n",
            "Epoch 60 loss: 0.01\n",
            "Epoch 70 loss: 0.01\n",
            "Epoch 80 loss: 0.01\n",
            "Epoch 90 loss: 0.00\n"
          ]
        }
      ],
      "source": [
        "mlp = MLP([weights_of_hiddenLayer, weights_of_outputLayer], [bias_of_hiddenLayer, bias_of_outputLayer])\n",
        "learning = 0.01\n",
        "losses = mlp.train(x_train, y_train, epochs=100, learning_rate=learning)\n",
        "predicted = mlp.predict(x_train, y_train, learning_rate=learning)"
      ]
    },
    {
      "cell_type": "markdown",
      "metadata": {
        "id": "QS2tyauT7-CL"
      },
      "source": [
        "## Plot Loss"
      ]
    },
    {
      "cell_type": "code",
      "execution_count": null,
      "metadata": {
        "colab": {
          "base_uri": "https://localhost:8080/",
          "height": 465
        },
        "id": "kHw4qSA96hM8",
        "outputId": "2f1cf860-2a6b-42bd-8d0c-5aad526b8e49"
      },
      "outputs": [
        {
          "output_type": "display_data",
          "data": {
            "text/plain": [
              "<Figure size 1000x500 with 1 Axes>"
            ],
            "image/png": "[encoded data removed]"
          },
          "metadata": {}
        }
      ],
      "source": [
        "plt.figure(figsize=(10,5))\n",
        "plt.plot(losses, label='Training Loss')\n",
        "plt.xlabel(\"Epochs\")\n",
        "plt.ylabel(\"Loss\")\n",
        "plt.legend(frameon=False)\n",
        "plt.show()"
      ]
    },
    {
      "cell_type": "markdown",
      "source": [
        "# Plot Accuracy"
      ],
      "metadata": {
        "id": "rDNBBbFI5OM5"
      }
    },
    {
      "cell_type": "code",
      "source": [
        "plt.figure(figsize=(5,2.5))\n",
        "plt.plot(x_train, y_train, label='y')\n",
        "plt.plot(x_train, predicted, label='Predicted')\n",
        "plt.xlabel(\"x\")\n",
        "plt.ylabel(\"y\")\n",
        "plt.legend(frameon=False)\n",
        "plt.show()"
      ],
      "metadata": {
        "colab": {
          "base_uri": "https://localhost:8080/",
          "height": 272
        },
        "id": "lgtRpaAH5RbD",
        "outputId": "a52e4719-4c61-4689-f084-10ca2a3199ce"
      },
      "execution_count": null,
      "outputs": [
        {
          "output_type": "display_data",
          "data": {
            "text/plain": [
              "<Figure size 500x250 with 1 Axes>"
            ],
            "image/png": "[encoded data removed]"
          },
          "metadata": {}
        }
      ]
    }
  ],
  "metadata": {
    "colab": {
      "provenance": []
    },
    "kernelspec": {
      "display_name": "Python 3",
      "name": "python3"
    },
    "language_info": {
      "name": "python"
    }
  },
  "nbformat": 4,
  "nbformat_minor": 0
}