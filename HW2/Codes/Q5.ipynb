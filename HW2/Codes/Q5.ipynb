{
  "nbformat": 4,
  "nbformat_minor": 0,
  "metadata": {
    "colab": {
      "provenance": []
    },
    "kernelspec": {
      "name": "python3",
      "display_name": "Python 3"
    },
    "language_info": {
      "name": "python"
    }
  },
  "cells": [
    {
      "cell_type": "code",
      "execution_count": 120,
      "metadata": {
        "id": "0CBdd5Wn7hq9"
      },
      "outputs": [],
      "source": [
        "import numpy as np\n",
        "import matplotlib.pyplot as plt\n"
      ]
    },
    {
      "cell_type": "markdown",
      "source": [
        "## Initialization of a Simple Neural Network"
      ],
      "metadata": {
        "id": "rLHxrwUyCYM6"
      }
    },
    {
      "cell_type": "code",
      "source": [
        "\"\"\"\n",
        "This code is setting up a simple neural network with one hidden layer.\n",
        "It initializes the training data, weights, and biases for the network.\n",
        "\"\"\"\n",
        "\n",
        "x_train = np.array([[1, 1], [1, -1], [-1, 1], [-1, -1]])\n",
        "y_train = np.array([1, -1, -1, 1])\n",
        "\n",
        "weights_of_hiddenLayer = np.array([np.random.rand(2)*2 - 1, np.random.rand(2)*2 - 1, np.random.rand(2)*2 - 1])\n",
        "weights_of_outputLayer = np.random.rand(3)*2 - 1\n",
        "\n",
        "bias_of_hiddenLayer = np.random.rand(3)\n",
        "bias_of_outputLayer = np.random.rand(1)"
      ],
      "metadata": {
        "id": "px_odX6SCcer"
      },
      "execution_count": 121,
      "outputs": []
    },
    {
      "cell_type": "markdown",
      "source": [
        "## Implementation of Softmax, ReLU, and Sigmoid Activation Functions"
      ],
      "metadata": {
        "id": "pte5hUbfnWwP"
      }
    },
    {
      "cell_type": "code",
      "source": [
        "\"\"\"\n",
        "This code defines a class \"activationFunctions\" that implements three common activation functions\n",
        "used in neural networks: softmax, ReLU, and sigmoid.\n",
        "\"\"\"\n",
        "\n",
        "class activationFunctions:\n",
        "  def softmax(self, x):\n",
        "    return np.exp(x) / np.sum(np.exp(x))\n",
        "\n",
        "  def ReLU(self, x):\n",
        "    return np.maximum(0, x)\n",
        "\n",
        "  def sigmoid(self, x):\n",
        "    return 1/(1 + np.exp(-x))"
      ],
      "metadata": {
        "id": "ncCy0BSEnZKq"
      },
      "execution_count": 122,
      "outputs": []
    },
    {
      "cell_type": "markdown",
      "source": [
        "## Implementation of Cross-Entropy Loss and Mean Squared Error (MSE) in a Loss Class"
      ],
      "metadata": {
        "id": "UFf-J0JrekMX"
      }
    },
    {
      "cell_type": "code",
      "source": [
        "\"\"\"\n",
        "This code defines a `Loss` class that implements two common loss functions used in machine learning:\n",
        "cross-entropy loss and mean squared error (MSE).\n",
        "\"\"\"\n",
        "\n",
        "class Loss:\n",
        "  def __init__(self, y, output):\n",
        "    self.y = y\n",
        "    self.output = output\n",
        "\n",
        "  def cross_entropy_loss(self):\n",
        "    return -np.sum(self.y * np.log(self.output))\n",
        "\n",
        "  def MSE(self):\n",
        "    return np.mean(np.square(self.y - self.output))"
      ],
      "metadata": {
        "id": "rfVIu2mtemVj"
      },
      "execution_count": 123,
      "outputs": []
    },
    {
      "cell_type": "markdown",
      "source": [
        "## MLP Neural Network Class with Training and Prediction Methods"
      ],
      "metadata": {
        "id": "qDI6JyrGCRM8"
      }
    },
    {
      "cell_type": "code",
      "source": [
        "\"\"\"\n",
        "This code defines a class `MLP` (Multi-Layer Perceptron) that implements a simple neural network with one hidden layer and\n",
        "methods for forward propagation, backpropagation, training, prediction, and accuracy calculation.\n",
        "\"\"\"\n",
        "\n",
        "class MLP:\n",
        "  def __init__(self, weights, biases):\n",
        "    self.weights = weights\n",
        "    self.biases = biases\n",
        "\n",
        "  def forward(self, x):\n",
        "    aF = activationFunctions()\n",
        "    z_of_hiddenLayer = np.dot(x, (self.weights[0]).T) + self.biases[0]\n",
        "    self.output_of_hiddenLayer = np.tanh(z_of_hiddenLayer)\n",
        "    z_of_outputLayer = np.dot(self.output_of_hiddenLayer, self.weights[1]) + self.biases[1]\n",
        "    self.output_of_outputLayer = aF.softmax(z_of_outputLayer)\n",
        "    return self.output_of_outputLayer\n",
        "\n",
        "  def backward(self, x, y, output):\n",
        "    output_error = output - y\n",
        "    output_weights_gradient = np.dot(self.output_of_hiddenLayer.T, output_error)\n",
        "    output_bias_gradient = np.sum(output_error, axis=0, keepdims=True)\n",
        "    hidden_layer_error = np.dot(np.expand_dims(output_error, 1), np.expand_dims(self.weights[1], 1).T) * (1 - np.power(self.output_of_hiddenLayer, 2))\n",
        "    hidden_weights_gradient = np.dot(x.T, hidden_layer_error)\n",
        "    hidden_bias_gradient = np.sum(hidden_layer_error, axis=0)\n",
        "\n",
        "    return output_weights_gradient, output_bias_gradient, hidden_weights_gradient, hidden_bias_gradient\n",
        "\n",
        "  def train(self, x, y, epochs, learning_rate):\n",
        "    losses = []\n",
        "    for epoch in range(epochs):\n",
        "      output = self.forward(x)\n",
        "      lossClass = Loss(y, output)\n",
        "      loss = lossClass.MSE()\n",
        "      losses.append(loss)\n",
        "\n",
        "      output_weights_gradient, output_bias_gradient, hidden_weights_gradient, hidden_bias_gradient = self.backward(x, y, output)\n",
        "      self.weights[1] -= learning_rate * output_weights_gradient\n",
        "      self.biases[1] -= learning_rate * output_bias_gradient\n",
        "      self.weights[0] -= learning_rate * hidden_weights_gradient.T\n",
        "      self.biases[0] -= learning_rate * hidden_bias_gradient\n",
        "\n",
        "      if epoch % 100 == 0:\n",
        "          print('Epoch %d loss: %.2f' % (epoch, loss))\n",
        "\n",
        "    return losses\n",
        "\n",
        "  def predict(self, x):\n",
        "    output = self.forward(x)\n",
        "    predictions = np.where(output > 0.5, 1, -1)\n",
        "    return predictions\n",
        "\n",
        "  def accuracy(self, x, y):\n",
        "    predictions = self.predict(x)\n",
        "    print(f\"predictions: {predictions}\")\n",
        "    accuracy = np.mean(predictions == y)\n",
        "    return accuracy\n"
      ],
      "metadata": {
        "id": "iKsdUA-qCUxq"
      },
      "execution_count": 124,
      "outputs": []
    },
    {
      "cell_type": "markdown",
      "source": [
        "## Training the MLP Neural Network"
      ],
      "metadata": {
        "id": "MJVQ_Qmq72T-"
      }
    },
    {
      "cell_type": "code",
      "source": [
        "mlp = MLP([weights_of_hiddenLayer, weights_of_outputLayer], [bias_of_hiddenLayer, bias_of_outputLayer])\n",
        "losses = mlp.train(x_train, y_train, epochs=1000, learning_rate=0.06)"
      ],
      "metadata": {
        "colab": {
          "base_uri": "https://localhost:8080/"
        },
        "id": "haxm8ep26ezi",
        "outputId": "6b3c92fc-0f82-4509-ab8f-61b018be4ada"
      },
      "execution_count": 125,
      "outputs": [
        {
          "output_type": "stream",
          "name": "stdout",
          "text": [
            "Epoch 0 loss: 1.09\n",
            "Epoch 100 loss: 0.63\n",
            "Epoch 200 loss: 0.63\n",
            "Epoch 300 loss: 0.63\n",
            "Epoch 400 loss: 0.63\n",
            "Epoch 500 loss: 0.63\n",
            "Epoch 600 loss: 0.63\n",
            "Epoch 700 loss: 0.62\n",
            "Epoch 800 loss: 0.62\n",
            "Epoch 900 loss: 0.62\n"
          ]
        }
      ]
    },
    {
      "cell_type": "markdown",
      "source": [
        "## Plot Loss"
      ],
      "metadata": {
        "id": "QS2tyauT7-CL"
      }
    },
    {
      "cell_type": "code",
      "source": [
        "plt.plot(losses)\n",
        "plt.title('Loss')\n",
        "plt.xlabel('Epoch')\n",
        "plt.ylabel('Loss')\n",
        "plt.show()"
      ],
      "metadata": {
        "colab": {
          "base_uri": "https://localhost:8080/",
          "height": 472
        },
        "id": "kHw4qSA96hM8",
        "outputId": "06a7cd81-66cc-4dd4-db54-89fc5d602e73"
      },
      "execution_count": 127,
      "outputs": [
        {
          "output_type": "display_data",
          "data": {
            "text/plain": [
              "<Figure size 640x480 with 1 Axes>"
            ],
            "image/png": "[encoded data removed]"
          },
          "metadata": {}
        }
      ]
    }
  ]
}