{
  "cells": [
    {
      "cell_type": "markdown",
      "metadata": {
        "id": "mqg4KSj_8Nz1"
      },
      "source": [
        "# In this notebook, we run an MLP model on dataset hoda and examine the results in terms of underfitting, fitting and overfitting."
      ]
    },
    {
      "cell_type": "markdown",
      "metadata": {
        "id": "IVk_5eoO76sj"
      },
      "source": [
        "## Download dataset"
      ]
    },
    {
      "cell_type": "code",
      "execution_count": 14,
      "metadata": {
        "colab": {
          "base_uri": "https://localhost:8080/"
        },
        "id": "TjoQGt01Ujx1",
        "outputId": "0bb7b582-ddf5-4de8-f73a-49416dbb6cd9"
      },
      "outputs": [
        {
          "output_type": "stream",
          "name": "stdout",
          "text": [
            "Downloading...\n",
            "From: https://drive.google.com/uc?id=1QJrQsEYOfPBn1LoIeYMZ2HFBRC0AY-6F\n",
            "To: /content/dataset.py\n",
            "100% 909/909 [00:00<00:00, 942kB/s]\n",
            "Downloading...\n",
            "From: https://drive.google.com/uc?id=1zStcaVl_34RrYIfVObuM4xzB6s8xwvBi\n",
            "To: /content/Data_hoda_full.mat\n",
            "100% 3.99M/3.99M [00:00<00:00, 278MB/s]\n"
          ]
        }
      ],
      "source": [
        "!gdown --fuzzy https://drive.google.com/file/d/1QJrQsEYOfPBn1LoIeYMZ2HFBRC0AY-6F/view?usp=sharing\n",
        "!gdown --fuzzy https://drive.google.com/file/d/1zStcaVl_34RrYIfVObuM4xzB6s8xwvBi/view?usp=sharing"
      ]
    },
    {
      "cell_type": "markdown",
      "metadata": {
        "id": "ruebTHNSBqRD"
      },
      "source": [
        "## Importing libraries"
      ]
    },
    {
      "cell_type": "code",
      "execution_count": 15,
      "metadata": {
        "id": "WhoXKRptiRDe"
      },
      "outputs": [],
      "source": [
        "import keras\n",
        "import numpy as np\n",
        "import matplotlib.pyplot as plt\n",
        "\n",
        "from keras.models import Sequential\n",
        "from keras.layers import Dense,  Activation\n",
        "from dataset import load_hoda"
      ]
    },
    {
      "cell_type": "markdown",
      "metadata": {
        "id": "ku75DKlg_f9y"
      },
      "source": [
        "# Load dataset"
      ]
    },
    {
      "cell_type": "code",
      "execution_count": 16,
      "metadata": {
        "id": "4D7VhBCKiVWl"
      },
      "outputs": [],
      "source": [
        "x_train_original, y_train_original, x_test_original, y_test_original = load_hoda()"
      ]
    },
    {
      "cell_type": "markdown",
      "metadata": {
        "id": "Wruhn4AmB5zC"
      },
      "source": [
        "### Converting x_train and x_test to ndarray array format and converting y_train and y_test to one-hot-encoding:\n",
        "####First, we have defined a simple function that prints the dimensions, data type and information of the loaded dataset. We will print this information before and after data preprocessing to notice the changes!"
      ]
    },
    {
      "cell_type": "code",
      "execution_count": 17,
      "metadata": {
        "id": "nbSZTm93iVb9"
      },
      "outputs": [],
      "source": [
        "# Preprocess input data for Keras.\n",
        "x_train = np.array(x_train_original)\n",
        "y_train = keras.utils.to_categorical(y_train_original, num_classes=10)\n",
        "x_test = np.array(x_test_original)\n",
        "y_test = keras.utils.to_categorical(y_test_original, num_classes=10)"
      ]
    },
    {
      "cell_type": "code",
      "execution_count": 18,
      "metadata": {
        "id": "u5Gvz63iiVZV"
      },
      "outputs": [],
      "source": [
        "def print_data_info(x_train, y_train, x_test, y_test):\n",
        "    #Check data Type\n",
        "    print (\"\\ttype(x_train): {}\".format(type(x_train)))\n",
        "    print (\"\\ttype(y_train): {}\".format(type(y_train)))\n",
        "\n",
        "    #check data Shape\n",
        "    print (\"\\tx_train.shape: {}\".format(np.shape(x_train)))\n",
        "    print (\"\\ty_train.shape: {}\".format(np.shape(y_train)))\n",
        "    print (\"\\tx_test.shape: {}\".format(np.shape(x_test)))\n",
        "    print (\"\\ty_test.shape: {}\".format(np.shape(y_test)))\n",
        "\n",
        "    #sample data\n",
        "    print (\"\\ty_train[0]: {}\".format(y_train[0]))"
      ]
    },
    {
      "cell_type": "code",
      "execution_count": 19,
      "metadata": {
        "colab": {
          "base_uri": "https://localhost:8080/"
        },
        "id": "0C5eJsmeiVe2",
        "outputId": "db0850d6-7bfa-4a5c-ee1d-618cf8578fb4"
      },
      "outputs": [
        {
          "output_type": "stream",
          "name": "stdout",
          "text": [
            "Before Preprocessing:\n",
            "\ttype(x_train): <class 'numpy.ndarray'>\n",
            "\ttype(y_train): <class 'numpy.ndarray'>\n",
            "\tx_train.shape: (1000, 25)\n",
            "\ty_train.shape: (1000,)\n",
            "\tx_test.shape: (200, 25)\n",
            "\ty_test.shape: (200,)\n",
            "\ty_train[0]: 6\n",
            "After Preprocessing:\n",
            "\ttype(x_train): <class 'numpy.ndarray'>\n",
            "\ttype(y_train): <class 'numpy.ndarray'>\n",
            "\tx_train.shape: (1000, 25)\n",
            "\ty_train.shape: (1000, 10)\n",
            "\tx_test.shape: (200, 25)\n",
            "\ty_test.shape: (200, 10)\n",
            "\ty_train[0]: [0. 0. 0. 0. 0. 0. 1. 0. 0. 0.]\n"
          ]
        }
      ],
      "source": [
        "print(\"Before Preprocessing:\")\n",
        "print_data_info(x_train_original, y_train_original, x_test_original, y_test_original)\n",
        "print(\"After Preprocessing:\")\n",
        "print_data_info(x_train, y_train, x_test, y_test)"
      ]
    },
    {
      "cell_type": "code",
      "execution_count": 20,
      "metadata": {
        "id": "ignnQ8cqidv_"
      },
      "outputs": [],
      "source": [
        "x_train = x_train.astype('float32')\n",
        "x_test = x_test.astype('float32')\n",
        "x_train /= 255\n",
        "x_test /= 255"
      ]
    },
    {
      "cell_type": "code",
      "execution_count": 21,
      "metadata": {
        "id": "cEQisVlqidyt"
      },
      "outputs": [],
      "source": [
        "# In this Create the model, input dim=25 and output dim = 10\n",
        "\n",
        "\"\"\"\n",
        "Because the data is not complex, the model learns well with one layer.\n",
        "For the activation function, ReLU is usually suitable for middle layers and it converges easily due to its high slope.\n",
        "For the output layer, since we have multi-class classification, softmax is a suitable option.\n",
        "\"\"\"\n",
        "\n",
        "from tensorflow.keras.models import Sequential\n",
        "from tensorflow.keras import layers\n",
        "\n",
        "\n",
        "##################################\n",
        "model = Sequential()\n",
        "model.add(layers.Input(shape=(25)))\n",
        "model.add(layers.Flatten())\n",
        "model.add(layers.Dense(25000, activation='relu'))\n",
        "\n",
        "model.add(layers.Dense(10, activation='softmax'))\n",
        "##################################\n"
      ]
    },
    {
      "cell_type": "code",
      "execution_count": 22,
      "metadata": {
        "id": "gk4rIwjbid3W",
        "colab": {
          "base_uri": "https://localhost:8080/"
        },
        "outputId": "67ac4108-5246-446a-80f4-4fe16c449c1d"
      },
      "outputs": [
        {
          "output_type": "stream",
          "name": "stdout",
          "text": [
            "Model: \"sequential_1\"\n",
            "_________________________________________________________________\n",
            " Layer (type)                Output Shape              Param #   \n",
            "=================================================================\n",
            " flatten_1 (Flatten)         (None, 25)                0         \n",
            "                                                                 \n",
            " dense_2 (Dense)             (None, 25000)             650000    \n",
            "                                                                 \n",
            " dense_3 (Dense)             (None, 10)                250010    \n",
            "                                                                 \n",
            "=================================================================\n",
            "Total params: 900010 (3.43 MB)\n",
            "Trainable params: 900010 (3.43 MB)\n",
            "Non-trainable params: 0 (0.00 Byte)\n",
            "_________________________________________________________________\n"
          ]
        }
      ],
      "source": [
        "model.summary()"
      ]
    },
    {
      "cell_type": "markdown",
      "metadata": {
        "id": "XVBSerPdCxnL"
      },
      "source": [
        "## Compile model"
      ]
    },
    {
      "cell_type": "code",
      "execution_count": 23,
      "metadata": {
        "id": "ZJVfanv2id52"
      },
      "outputs": [],
      "source": [
        "# In this cell compile mode, set loss function and optimizer and get metrics accuracy\n",
        "\n",
        "\"\"\"\n",
        "Here we obtained the learning rate by trial and error.\n",
        "\"\"\"\n",
        "\n",
        "##################################\n",
        "sgd_optimizer = keras.optimizers.Adam(learning_rate=0.001)\n",
        "model.compile(optimizer=sgd_optimizer, loss='categorical_crossentropy', metrics=['accuracy'])\n",
        "##################################"
      ]
    },
    {
      "cell_type": "markdown",
      "metadata": {
        "id": "Uz92ZcWOJFFU"
      },
      "source": [
        "## Fit model"
      ]
    },
    {
      "cell_type": "code",
      "execution_count": 24,
      "metadata": {
        "id": "ZaKtROcxinbV",
        "colab": {
          "base_uri": "https://localhost:8080/"
        },
        "outputId": "6cf01a7a-ef46-4f24-c095-69b97be3efb5"
      },
      "outputs": [
        {
          "output_type": "stream",
          "name": "stdout",
          "text": [
            "Epoch 1/18\n",
            "16/16 [==============================] - 1s 32ms/step - loss: 1.0577 - accuracy: 0.7240 - val_loss: 0.4447 - val_accuracy: 0.8600\n",
            "Epoch 2/18\n",
            "16/16 [==============================] - 0s 21ms/step - loss: 0.3955 - accuracy: 0.8700 - val_loss: 0.3458 - val_accuracy: 0.8900\n",
            "Epoch 3/18\n",
            "16/16 [==============================] - 0s 22ms/step - loss: 0.2925 - accuracy: 0.8930 - val_loss: 0.3222 - val_accuracy: 0.8800\n",
            "Epoch 4/18\n",
            "16/16 [==============================] - 0s 23ms/step - loss: 0.2415 - accuracy: 0.9060 - val_loss: 0.2552 - val_accuracy: 0.9250\n",
            "Epoch 5/18\n",
            "16/16 [==============================] - 0s 21ms/step - loss: 0.2092 - accuracy: 0.9360 - val_loss: 0.2487 - val_accuracy: 0.9450\n",
            "Epoch 6/18\n",
            "16/16 [==============================] - 0s 22ms/step - loss: 0.1831 - accuracy: 0.9370 - val_loss: 0.2374 - val_accuracy: 0.9100\n",
            "Epoch 7/18\n",
            "16/16 [==============================] - 0s 20ms/step - loss: 0.1755 - accuracy: 0.9460 - val_loss: 0.2691 - val_accuracy: 0.9000\n",
            "Epoch 8/18\n",
            "16/16 [==============================] - 0s 22ms/step - loss: 0.1851 - accuracy: 0.9310 - val_loss: 0.2373 - val_accuracy: 0.9350\n",
            "Epoch 9/18\n",
            "16/16 [==============================] - 0s 21ms/step - loss: 0.1218 - accuracy: 0.9670 - val_loss: 0.2346 - val_accuracy: 0.9250\n",
            "Epoch 10/18\n",
            "16/16 [==============================] - 0s 21ms/step - loss: 0.1258 - accuracy: 0.9550 - val_loss: 0.2229 - val_accuracy: 0.9450\n",
            "Epoch 11/18\n",
            "16/16 [==============================] - 0s 24ms/step - loss: 0.0933 - accuracy: 0.9740 - val_loss: 0.2419 - val_accuracy: 0.9250\n",
            "Epoch 12/18\n",
            "16/16 [==============================] - 1s 37ms/step - loss: 0.0743 - accuracy: 0.9770 - val_loss: 0.1950 - val_accuracy: 0.9500\n",
            "Epoch 13/18\n",
            "16/16 [==============================] - 1s 35ms/step - loss: 0.0735 - accuracy: 0.9790 - val_loss: 0.2370 - val_accuracy: 0.9250\n",
            "Epoch 14/18\n",
            "16/16 [==============================] - 1s 36ms/step - loss: 0.0693 - accuracy: 0.9810 - val_loss: 0.2220 - val_accuracy: 0.9400\n",
            "Epoch 15/18\n",
            "16/16 [==============================] - 1s 34ms/step - loss: 0.0541 - accuracy: 0.9880 - val_loss: 0.2138 - val_accuracy: 0.9400\n",
            "Epoch 16/18\n",
            "16/16 [==============================] - 0s 23ms/step - loss: 0.0451 - accuracy: 0.9920 - val_loss: 0.2172 - val_accuracy: 0.9350\n",
            "Epoch 17/18\n",
            "16/16 [==============================] - 0s 21ms/step - loss: 0.0379 - accuracy: 0.9920 - val_loss: 0.2260 - val_accuracy: 0.9400\n",
            "Epoch 18/18\n",
            "16/16 [==============================] - 0s 22ms/step - loss: 0.0326 - accuracy: 0.9960 - val_loss: 0.2129 - val_accuracy: 0.9400\n"
          ]
        }
      ],
      "source": [
        "MLP_model = model.fit(x_train, y_train, epochs=18, batch_size=64, validation_data=(x_test, y_test))"
      ]
    },
    {
      "cell_type": "code",
      "execution_count": 25,
      "metadata": {
        "colab": {
          "base_uri": "https://localhost:8080/",
          "height": 448
        },
        "id": "SveCNiLkisTF",
        "outputId": "3aa9c061-b38e-43ab-cebf-89aee3c958f5"
      },
      "outputs": [
        {
          "output_type": "execute_result",
          "data": {
            "text/plain": [
              "[<matplotlib.lines.Line2D at 0x7db256e7d8a0>]"
            ]
          },
          "metadata": {},
          "execution_count": 25
        },
        {
          "output_type": "display_data",
          "data": {
            "text/plain": [
              "<Figure size 640x480 with 1 Axes>"
            ],
            "image/png": "[encoded data removed]"
          },
          "metadata": {}
        }
      ],
      "source": [
        "# plot Loss\n",
        "plt.plot(MLP_model.history[\"loss\"])\n",
        "plt.plot(MLP_model.history[\"val_loss\"])"
      ]
    },
    {
      "cell_type": "code",
      "execution_count": 26,
      "metadata": {
        "colab": {
          "base_uri": "https://localhost:8080/",
          "height": 448
        },
        "id": "Cx3VubunisVh",
        "outputId": "d10ef442-8996-472f-b977-b7ef661044d4"
      },
      "outputs": [
        {
          "output_type": "execute_result",
          "data": {
            "text/plain": [
              "[<matplotlib.lines.Line2D at 0x7db266885660>]"
            ]
          },
          "metadata": {},
          "execution_count": 26
        },
        {
          "output_type": "display_data",
          "data": {
            "text/plain": [
              "<Figure size 640x480 with 1 Axes>"
            ],
            "image/png": "[encoded data removed]"
          },
          "metadata": {}
        }
      ],
      "source": [
        "# plot accuracy\n",
        "plt.plot(MLP_model.history[\"accuracy\"])\n",
        "plt.plot(MLP_model.history[\"val_accuracy\"])"
      ]
    }
  ],
  "metadata": {
    "colab": {
      "provenance": []
    },
    "kernelspec": {
      "display_name": "Python 3",
      "name": "python3"
    },
    "language_info": {
      "name": "python"
    }
  },
  "nbformat": 4,
  "nbformat_minor": 0
}